{
 "cells": [
  {
   "cell_type": "code",
   "execution_count": 6,
   "metadata": {},
   "outputs": [],
   "source": [
    "import contextlib\n",
    "from datetime import datetime\n",
    "import requests as req\n",
    "from typing import List\n",
    "import requests as req\n",
    "from statistics import mean\n",
    "import itertools\n",
    "from dtw import *"
   ]
  },
  {
   "cell_type": "code",
   "execution_count": 156,
   "metadata": {},
   "outputs": [],
   "source": [
    "class ChartCollectorAPI():\n",
    "    def __init__(self):\n",
    "        self.charts={}\n",
    "    \n",
    "    def get_chart(self,symbol:str,timeframe:int=30,charts:List[str]=None,range:str=\"1mo\") -> list:\n",
    "        headers = {\n",
    "            'x-api-key': \"mTd2MNVwEe3WFgj5PQ66Tbpq0CyeP8Q7ESjpmYZ2\"\n",
    "        }\n",
    "        \n",
    "        url = f\"https://yfapi.net/v8/finance/chart/{symbol}?comparisons=\"\n",
    "        if charts:\n",
    "            for asset in charts:\n",
    "                url+= asset\n",
    "                if asset != (len(charts) - 1):\n",
    "                    url+=\"%2C\"\n",
    "        \n",
    "        url+=f\"&range={range}&region=US&interval=1d&lang=en&events=div%2Csplit\"\n",
    "            \n",
    "        response = req.request(\"GET\", url, headers=headers)\n",
    "        \n",
    "        try:\n",
    "            response = response.json()[\"chart\"][\"result\"][0]\n",
    "            timesamps = response[\"timestamp\"]\n",
    "            \n",
    "            reference = response[\"indicators\"][\"quote\"][0][\"close\"]\n",
    "            \n",
    "            # Adding reference chart\n",
    "            if symbol not in self.charts:\n",
    "                self.charts[symbol]=[{\"date\":datetime.fromtimestamp(int(timestamp)), \"close\":close} for timestamp, close in zip(timesamps, reference)]\n",
    "            \n",
    "            \n",
    "            if charts:\n",
    "                comparison = response[\"comparisons\"]\n",
    "                # Adding the comparisons charts\n",
    "                for value in comparison:\n",
    "                    if value[\"symbol\"] not in self.charts:\n",
    "                        self.charts[value[\"symbol\"]]=[{\"date\":datetime.fromtimestamp(int(timestamp)), \"close\":close} for timestamp, close in zip(timesamps, value[\"close\"])]\n",
    "\n",
    "\n",
    "            \n",
    "        \n",
    "        except Exception as error:\n",
    "            print(response.json())\n",
    "        \n",
    "        \n",
    "    \"\"\"\n",
    "    Methode pour charger le graphique d'un actif depuis l'api\n",
    "    On verifie si l'actif n'a pas encore été chargé\n",
    "    \"\"\"\n",
    "    def loading(self,list_actifs:List[str]):\n",
    "        for actif in list_actifs:\n",
    "            if actif not in self.charts:\n",
    "               self.charts[actif]=self.get_chart(actif)\n",
    "        \n",
    "    \"\"\"Methode qui sauvegarde les differents graphiques de comparaisons des différents actifs passés dans une liste en parametre\n",
    "    Print dans la console les differentes distances en fonction de l'algorithme utilisé.\n",
    "    \"\"\"\n",
    "    def resultats_rapports(self,actif_reference,charts) -> dict:\n",
    "        results = {}\n",
    "        \n",
    "        \n",
    "        # On recupere le dernier mois de données du graph de reference\n",
    "        chart_reference = [value['close'] for value in charts[actif_reference]]\n",
    "        \n",
    "        data_length = int(len(chart_reference)/3)\n",
    "        chart_reference = chart_reference[-data_length:]\n",
    "        \n",
    "\n",
    "        # On le compare aux autres graphiques\n",
    "        for actif_comparaison in charts:\n",
    "            if actif_comparaison != actif_reference:\n",
    "                # On va réduire la fenetre des actifs de comparaison \n",
    "                chart_comparison = [value['close'] for value in charts[actif_comparaison]]\n",
    "\n",
    "                for i in range(2):\n",
    "                    if i ==0:\n",
    "                        # Premier mois de données\n",
    "                        comparison = chart_comparison[:data_length]\n",
    "                        month = \"1\"\n",
    "                        current_data = chart_comparison[data_length:data_length]\n",
    "                    else:\n",
    "                        # Deuxieme mois de données\n",
    "                        comparison = chart_comparison[data_length:data_length*2]\n",
    "                        month = \"2\"\n",
    "                        current_data = chart_comparison[-data_length:]\n",
    "                    \n",
    "\n",
    "                    results[f\"DTW rapport moyenne {actif_reference} /  {actif_comparaison} {month} tiers\"] = {\n",
    "                        \"value\":self.dynamic_time_warping_par_rapport_moyenne(chart_reference,comparison)[\"distance moyenne\"],\n",
    "                        \"actif_reference\":actif_reference,\n",
    "                        \"actif_comparaison\":actif_comparaison,\n",
    "                        \"chart_reference\":chart_reference,\n",
    "                        \"current_data\":current_data,\n",
    "                        \"chart_comparison\":comparison\n",
    "                        }\n",
    "                    \n",
    "                    \n",
    "            \n",
    "\n",
    "            \n",
    "        \n",
    "        return results                \n",
    "\n",
    "\n",
    "\n",
    "    \n",
    "    def distance_point_par_point_rapport_moyenne(self,chart_reference,chart_comparison):          \n",
    "         # Adapte les amplitudes des courbes pour pouvoir les comparer\n",
    "        \n",
    "        ## On les ramene à 1 en faisant le rapport par rapport à leur moyenne\n",
    "        rearange_reference = [value / mean(chart_reference) for value in chart_reference]\n",
    "        rearange_comparison = [value / mean(chart_comparison) for value in chart_comparison]\n",
    "\n",
    "        # On calcule les differentes distances entre les points des deux courbes\n",
    "        distances = [\n",
    "            abs(rearange_reference[i] - rearange_comparison[i])\n",
    "            for i in range(len(rearange_reference))\n",
    "        ]\n",
    "\n",
    "        return {\"distance moyenne\":round(mean(distances),2)}\n",
    "    \n",
    "\n",
    "    \n",
    "    def dynamic_time_warping_par_rapport_moyenne(self,chart_reference,chart_comparison):\n",
    "        # Adapte les amplitudes des courbes pour pouvoir les comparer\n",
    "        \n",
    "        ## On les ramene à 1 en faisant le rapport par rapport à leur moyenne\n",
    "        rearange_reference = [value / mean(chart_reference) for value in chart_reference]\n",
    "        rearange_comparison = [value / mean(chart_comparison) for value in chart_comparison]\n",
    "\n",
    "\n",
    "        # OO method call chain\n",
    "        warping = dtw(rearange_comparison, rearange_reference, keep_internals=True, step_pattern=rabinerJuangStepPattern(6, \"c\"))\n",
    "\n",
    "        \n",
    "        return {\"distance moyenne\":round(warping.distance/len(chart_comparison),2)}\n",
    "    \n"
   ]
  },
  {
   "cell_type": "markdown",
   "metadata": {},
   "source": [
    "https://yfapi.net/v8/finance/chart/AAPL?comparisons=MSFT%2CAPPL&range=1mo&region=US&interval=1d&lang=en&events=div%2Csplit"
   ]
  },
  {
   "cell_type": "code",
   "execution_count": 28,
   "metadata": {},
   "outputs": [],
   "source": [
    "Charts = ChartCollectorAPI()\n",
    "Charts.get_chart(symbol=\"AAPL\",charts=[\"AMC\",\"AMD\",\"TLRY\",\"MSFT\"],range=\"3mo\")\n"
   ]
  },
  {
   "cell_type": "code",
   "execution_count": 29,
   "metadata": {},
   "outputs": [
    {
     "name": "stdout",
     "output_type": "stream",
     "text": [
      "{'AAPL': [{'date': datetime.datetime(2021, 12, 29, 15, 30), 'close': 179.3800048828125}, {'date': datetime.datetime(2021, 12, 30, 15, 30), 'close': 178.1999969482422}, {'date': datetime.datetime(2021, 12, 31, 15, 30), 'close': 177.57000732421875}, {'date': datetime.datetime(2022, 1, 3, 15, 30), 'close': 182.00999450683594}, {'date': datetime.datetime(2022, 1, 4, 15, 30), 'close': 179.6999969482422}, {'date': datetime.datetime(2022, 1, 5, 15, 30), 'close': 174.9199981689453}, {'date': datetime.datetime(2022, 1, 6, 15, 30), 'close': 172.0}, {'date': datetime.datetime(2022, 1, 7, 15, 30), 'close': 172.1699981689453}, {'date': datetime.datetime(2022, 1, 10, 15, 30), 'close': 172.19000244140625}, {'date': datetime.datetime(2022, 1, 11, 15, 30), 'close': 175.0800018310547}, {'date': datetime.datetime(2022, 1, 12, 15, 30), 'close': 175.52999877929688}, {'date': datetime.datetime(2022, 1, 13, 15, 30), 'close': 172.19000244140625}, {'date': datetime.datetime(2022, 1, 14, 15, 30), 'close': 173.07000732421875}, {'date': datetime.datetime(2022, 1, 18, 15, 30), 'close': 169.8000030517578}, {'date': datetime.datetime(2022, 1, 19, 15, 30), 'close': 166.22999572753906}, {'date': datetime.datetime(2022, 1, 20, 15, 30), 'close': 164.50999450683594}, {'date': datetime.datetime(2022, 1, 21, 15, 30), 'close': 162.41000366210938}, {'date': datetime.datetime(2022, 1, 24, 15, 30), 'close': 161.6199951171875}, {'date': datetime.datetime(2022, 1, 25, 15, 30), 'close': 159.77999877929688}, {'date': datetime.datetime(2022, 1, 26, 15, 30), 'close': 159.69000244140625}, {'date': datetime.datetime(2022, 1, 27, 15, 30), 'close': 159.22000122070312}, {'date': datetime.datetime(2022, 1, 28, 15, 30), 'close': 170.3300018310547}, {'date': datetime.datetime(2022, 1, 31, 15, 30), 'close': 174.77999877929688}, {'date': datetime.datetime(2022, 2, 1, 15, 30), 'close': 174.61000061035156}, {'date': datetime.datetime(2022, 2, 2, 15, 30), 'close': 175.83999633789062}, {'date': datetime.datetime(2022, 2, 3, 15, 30), 'close': 172.89999389648438}, {'date': datetime.datetime(2022, 2, 4, 15, 30), 'close': 172.38999938964844}, {'date': datetime.datetime(2022, 2, 7, 15, 30), 'close': 171.66000366210938}, {'date': datetime.datetime(2022, 2, 8, 15, 30), 'close': 174.8300018310547}, {'date': datetime.datetime(2022, 2, 9, 15, 30), 'close': 176.27999877929688}, {'date': datetime.datetime(2022, 2, 10, 15, 30), 'close': 172.1199951171875}, {'date': datetime.datetime(2022, 2, 11, 15, 30), 'close': 168.63999938964844}, {'date': datetime.datetime(2022, 2, 14, 15, 30), 'close': 168.8800048828125}, {'date': datetime.datetime(2022, 2, 15, 15, 30), 'close': 172.7899932861328}, {'date': datetime.datetime(2022, 2, 16, 15, 30), 'close': 172.5500030517578}, {'date': datetime.datetime(2022, 2, 17, 15, 30), 'close': 168.8800048828125}, {'date': datetime.datetime(2022, 2, 18, 15, 30), 'close': 167.3000030517578}, {'date': datetime.datetime(2022, 2, 22, 15, 30), 'close': 164.32000732421875}, {'date': datetime.datetime(2022, 2, 23, 15, 30), 'close': 160.07000732421875}, {'date': datetime.datetime(2022, 2, 24, 15, 30), 'close': 162.74000549316406}, {'date': datetime.datetime(2022, 2, 25, 15, 30), 'close': 164.85000610351562}, {'date': datetime.datetime(2022, 2, 28, 15, 30), 'close': 165.1199951171875}, {'date': datetime.datetime(2022, 3, 1, 15, 30), 'close': 163.1999969482422}, {'date': datetime.datetime(2022, 3, 2, 15, 30), 'close': 166.55999755859375}, {'date': datetime.datetime(2022, 3, 3, 15, 30), 'close': 166.22999572753906}, {'date': datetime.datetime(2022, 3, 4, 15, 30), 'close': 163.1699981689453}, {'date': datetime.datetime(2022, 3, 7, 15, 30), 'close': 159.3000030517578}, {'date': datetime.datetime(2022, 3, 8, 15, 30), 'close': 157.44000244140625}, {'date': datetime.datetime(2022, 3, 9, 15, 30), 'close': 162.9499969482422}, {'date': datetime.datetime(2022, 3, 10, 15, 30), 'close': 158.52000427246094}, {'date': datetime.datetime(2022, 3, 11, 15, 30), 'close': 154.72999572753906}, {'date': datetime.datetime(2022, 3, 14, 14, 30), 'close': 150.6199951171875}, {'date': datetime.datetime(2022, 3, 15, 14, 30), 'close': 155.08999633789062}, {'date': datetime.datetime(2022, 3, 16, 14, 30), 'close': 159.58999633789062}, {'date': datetime.datetime(2022, 3, 17, 14, 30), 'close': 160.6199951171875}, {'date': datetime.datetime(2022, 3, 18, 14, 30), 'close': 163.97999572753906}, {'date': datetime.datetime(2022, 3, 21, 14, 30), 'close': 165.3800048828125}, {'date': datetime.datetime(2022, 3, 22, 14, 30), 'close': 168.82000732421875}, {'date': datetime.datetime(2022, 3, 23, 14, 30), 'close': 170.2100067138672}, {'date': datetime.datetime(2022, 3, 24, 14, 30), 'close': 174.07000732421875}, {'date': datetime.datetime(2022, 3, 25, 14, 30), 'close': 174.72000122070312}, {'date': datetime.datetime(2022, 3, 28, 15, 30), 'close': 175.60000610351562}, {'date': datetime.datetime(2022, 3, 29, 16, 17, 17), 'close': 176.9149932861328}], 'MSFT': [{'date': datetime.datetime(2021, 12, 29, 15, 30), 'close': 341.95}, {'date': datetime.datetime(2021, 12, 30, 15, 30), 'close': 339.32}, {'date': datetime.datetime(2021, 12, 31, 15, 30), 'close': 336.32}, {'date': datetime.datetime(2022, 1, 3, 15, 30), 'close': 334.75}, {'date': datetime.datetime(2022, 1, 4, 15, 30), 'close': 329.01}, {'date': datetime.datetime(2022, 1, 5, 15, 30), 'close': 316.38}, {'date': datetime.datetime(2022, 1, 6, 15, 30), 'close': 313.88}, {'date': datetime.datetime(2022, 1, 7, 15, 30), 'close': 314.04}, {'date': datetime.datetime(2022, 1, 10, 15, 30), 'close': 314.27}, {'date': datetime.datetime(2022, 1, 11, 15, 30), 'close': 314.98}, {'date': datetime.datetime(2022, 1, 12, 15, 30), 'close': 318.27}, {'date': datetime.datetime(2022, 1, 13, 15, 30), 'close': 304.8}, {'date': datetime.datetime(2022, 1, 14, 15, 30), 'close': 310.2}, {'date': datetime.datetime(2022, 1, 18, 15, 30), 'close': 302.65}, {'date': datetime.datetime(2022, 1, 19, 15, 30), 'close': 303.33}, {'date': datetime.datetime(2022, 1, 20, 15, 30), 'close': 301.6}, {'date': datetime.datetime(2022, 1, 21, 15, 30), 'close': 296.03}, {'date': datetime.datetime(2022, 1, 24, 15, 30), 'close': 296.37}, {'date': datetime.datetime(2022, 1, 25, 15, 30), 'close': 288.49}, {'date': datetime.datetime(2022, 1, 26, 15, 30), 'close': 296.71}, {'date': datetime.datetime(2022, 1, 27, 15, 30), 'close': 299.84}, {'date': datetime.datetime(2022, 1, 28, 15, 30), 'close': 308.26}, {'date': datetime.datetime(2022, 1, 31, 15, 30), 'close': 310.98}, {'date': datetime.datetime(2022, 2, 1, 15, 30), 'close': 308.76}, {'date': datetime.datetime(2022, 2, 2, 15, 30), 'close': 313.46}, {'date': datetime.datetime(2022, 2, 3, 15, 30), 'close': 301.25}, {'date': datetime.datetime(2022, 2, 4, 15, 30), 'close': 305.94}, {'date': datetime.datetime(2022, 2, 7, 15, 30), 'close': 300.95}, {'date': datetime.datetime(2022, 2, 8, 15, 30), 'close': 304.56}, {'date': datetime.datetime(2022, 2, 9, 15, 30), 'close': 311.21}, {'date': datetime.datetime(2022, 2, 10, 15, 30), 'close': 302.38}, {'date': datetime.datetime(2022, 2, 11, 15, 30), 'close': 295.04}, {'date': datetime.datetime(2022, 2, 14, 15, 30), 'close': 295.0}, {'date': datetime.datetime(2022, 2, 15, 15, 30), 'close': 300.47}, {'date': datetime.datetime(2022, 2, 16, 15, 30), 'close': 299.5}, {'date': datetime.datetime(2022, 2, 17, 15, 30), 'close': 290.73}, {'date': datetime.datetime(2022, 2, 18, 15, 30), 'close': 287.93}, {'date': datetime.datetime(2022, 2, 22, 15, 30), 'close': 287.72}, {'date': datetime.datetime(2022, 2, 23, 15, 30), 'close': 280.27}, {'date': datetime.datetime(2022, 2, 24, 15, 30), 'close': 294.59}, {'date': datetime.datetime(2022, 2, 25, 15, 30), 'close': 297.31}, {'date': datetime.datetime(2022, 2, 28, 15, 30), 'close': 298.79}, {'date': datetime.datetime(2022, 3, 1, 15, 30), 'close': 294.95}, {'date': datetime.datetime(2022, 3, 2, 15, 30), 'close': 300.19}, {'date': datetime.datetime(2022, 3, 3, 15, 30), 'close': 295.92}, {'date': datetime.datetime(2022, 3, 4, 15, 30), 'close': 289.86}, {'date': datetime.datetime(2022, 3, 7, 15, 30), 'close': 278.91}, {'date': datetime.datetime(2022, 3, 8, 15, 30), 'close': 275.85}, {'date': datetime.datetime(2022, 3, 9, 15, 30), 'close': 288.5}, {'date': datetime.datetime(2022, 3, 10, 15, 30), 'close': 285.59}, {'date': datetime.datetime(2022, 3, 11, 15, 30), 'close': 280.07}, {'date': datetime.datetime(2022, 3, 14, 14, 30), 'close': 276.44}, {'date': datetime.datetime(2022, 3, 15, 14, 30), 'close': 287.15}, {'date': datetime.datetime(2022, 3, 16, 14, 30), 'close': 294.39}, {'date': datetime.datetime(2022, 3, 17, 14, 30), 'close': 295.22}, {'date': datetime.datetime(2022, 3, 18, 14, 30), 'close': 300.43}, {'date': datetime.datetime(2022, 3, 21, 14, 30), 'close': 299.16}, {'date': datetime.datetime(2022, 3, 22, 14, 30), 'close': 304.06}, {'date': datetime.datetime(2022, 3, 23, 14, 30), 'close': 299.49}, {'date': datetime.datetime(2022, 3, 24, 14, 30), 'close': 304.1}, {'date': datetime.datetime(2022, 3, 25, 14, 30), 'close': 303.68}, {'date': datetime.datetime(2022, 3, 28, 15, 30), 'close': 310.7}, {'date': datetime.datetime(2022, 3, 29, 16, 17, 17), 'close': 310.09}], 'AMC': [{'date': datetime.datetime(2021, 12, 29, 15, 30), 'close': 27.95}, {'date': datetime.datetime(2021, 12, 30, 15, 30), 'close': 28.94}, {'date': datetime.datetime(2021, 12, 31, 15, 30), 'close': 27.2}, {'date': datetime.datetime(2022, 1, 3, 15, 30), 'close': 26.52}, {'date': datetime.datetime(2022, 1, 4, 15, 30), 'close': 25.49}, {'date': datetime.datetime(2022, 1, 5, 15, 30), 'close': 22.75}, {'date': datetime.datetime(2022, 1, 6, 15, 30), 'close': 22.46}, {'date': datetime.datetime(2022, 1, 7, 15, 30), 'close': 22.99}, {'date': datetime.datetime(2022, 1, 10, 15, 30), 'close': 22.78}, {'date': datetime.datetime(2022, 1, 11, 15, 30), 'close': 22.79}, {'date': datetime.datetime(2022, 1, 12, 15, 30), 'close': 22.72}, {'date': datetime.datetime(2022, 1, 13, 15, 30), 'close': 20.66}, {'date': datetime.datetime(2022, 1, 14, 15, 30), 'close': 20.57}, {'date': datetime.datetime(2022, 1, 18, 15, 30), 'close': 18.84}, {'date': datetime.datetime(2022, 1, 19, 15, 30), 'close': 18.32}, {'date': datetime.datetime(2022, 1, 20, 15, 30), 'close': 18.07}, {'date': datetime.datetime(2022, 1, 21, 15, 30), 'close': 17.97}, {'date': datetime.datetime(2022, 1, 24, 15, 30), 'close': 16.64}, {'date': datetime.datetime(2022, 1, 25, 15, 30), 'close': 16.02}, {'date': datetime.datetime(2022, 1, 26, 15, 30), 'close': 15.94}, {'date': datetime.datetime(2022, 1, 27, 15, 30), 'close': 14.52}, {'date': datetime.datetime(2022, 1, 28, 15, 30), 'close': 15.06}, {'date': datetime.datetime(2022, 1, 31, 15, 30), 'close': 16.06}, {'date': datetime.datetime(2022, 2, 1, 15, 30), 'close': 16.86}, {'date': datetime.datetime(2022, 2, 2, 15, 30), 'close': 15.42}, {'date': datetime.datetime(2022, 2, 3, 15, 30), 'close': 14.87}, {'date': datetime.datetime(2022, 2, 4, 15, 30), 'close': 15.35}, {'date': datetime.datetime(2022, 2, 7, 15, 30), 'close': 14.91}, {'date': datetime.datetime(2022, 2, 8, 15, 30), 'close': 16.43}, {'date': datetime.datetime(2022, 2, 9, 15, 30), 'close': 18.94}, {'date': datetime.datetime(2022, 2, 10, 15, 30), 'close': 18.59}, {'date': datetime.datetime(2022, 2, 11, 15, 30), 'close': 18.81}, {'date': datetime.datetime(2022, 2, 14, 15, 30), 'close': 17.75}, {'date': datetime.datetime(2022, 2, 15, 15, 30), 'close': 19.48}, {'date': datetime.datetime(2022, 2, 16, 15, 30), 'close': 19.67}, {'date': datetime.datetime(2022, 2, 17, 15, 30), 'close': 18.94}, {'date': datetime.datetime(2022, 2, 18, 15, 30), 'close': 17.9}, {'date': datetime.datetime(2022, 2, 22, 15, 30), 'close': 16.47}, {'date': datetime.datetime(2022, 2, 23, 15, 30), 'close': 15.73}, {'date': datetime.datetime(2022, 2, 24, 15, 30), 'close': 17.68}, {'date': datetime.datetime(2022, 2, 25, 15, 30), 'close': 17.66}, {'date': datetime.datetime(2022, 2, 28, 15, 30), 'close': 18.86}, {'date': datetime.datetime(2022, 3, 1, 15, 30), 'close': 18.32}, {'date': datetime.datetime(2022, 3, 2, 15, 30), 'close': 18.53}, {'date': datetime.datetime(2022, 3, 3, 15, 30), 'close': 18.06}, {'date': datetime.datetime(2022, 3, 4, 15, 30), 'close': 16.57}, {'date': datetime.datetime(2022, 3, 7, 15, 30), 'close': 15.21}, {'date': datetime.datetime(2022, 3, 8, 15, 30), 'close': 15.39}, {'date': datetime.datetime(2022, 3, 9, 15, 30), 'close': 15.71}, {'date': datetime.datetime(2022, 3, 10, 15, 30), 'close': 15.32}, {'date': datetime.datetime(2022, 3, 11, 15, 30), 'close': 14.3}, {'date': datetime.datetime(2022, 3, 14, 14, 30), 'close': 13.56}, {'date': datetime.datetime(2022, 3, 15, 14, 30), 'close': 14.48}, {'date': datetime.datetime(2022, 3, 16, 14, 30), 'close': 15.23}, {'date': datetime.datetime(2022, 3, 17, 14, 30), 'close': 15.19}, {'date': datetime.datetime(2022, 3, 18, 14, 30), 'close': 15.8}, {'date': datetime.datetime(2022, 3, 21, 14, 30), 'close': 15.86}, {'date': datetime.datetime(2022, 3, 22, 14, 30), 'close': 18.26}, {'date': datetime.datetime(2022, 3, 23, 14, 30), 'close': 20.74}, {'date': datetime.datetime(2022, 3, 24, 14, 30), 'close': 20.23}, {'date': datetime.datetime(2022, 3, 25, 14, 30), 'close': 20.24}, {'date': datetime.datetime(2022, 3, 28, 15, 30), 'close': 29.33}, {'date': datetime.datetime(2022, 3, 29, 16, 17, 17), 'close': 28.29}], 'AMD': [{'date': datetime.datetime(2021, 12, 29, 15, 30), 'close': 148.26}, {'date': datetime.datetime(2021, 12, 30, 15, 30), 'close': 145.15}, {'date': datetime.datetime(2021, 12, 31, 15, 30), 'close': 143.9}, {'date': datetime.datetime(2022, 1, 3, 15, 30), 'close': 150.24}, {'date': datetime.datetime(2022, 1, 4, 15, 30), 'close': 144.42}, {'date': datetime.datetime(2022, 1, 5, 15, 30), 'close': 136.15}, {'date': datetime.datetime(2022, 1, 6, 15, 30), 'close': 136.23}, {'date': datetime.datetime(2022, 1, 7, 15, 30), 'close': 132.0}, {'date': datetime.datetime(2022, 1, 10, 15, 30), 'close': 132.0}, {'date': datetime.datetime(2022, 1, 11, 15, 30), 'close': 137.31}, {'date': datetime.datetime(2022, 1, 12, 15, 30), 'close': 137.47}, {'date': datetime.datetime(2022, 1, 13, 15, 30), 'close': 132.74}, {'date': datetime.datetime(2022, 1, 14, 15, 30), 'close': 136.88}, {'date': datetime.datetime(2022, 1, 18, 15, 30), 'close': 131.93}, {'date': datetime.datetime(2022, 1, 19, 15, 30), 'close': 128.27}, {'date': datetime.datetime(2022, 1, 20, 15, 30), 'close': 121.89}, {'date': datetime.datetime(2022, 1, 21, 15, 30), 'close': 118.81}, {'date': datetime.datetime(2022, 1, 24, 15, 30), 'close': 116.53}, {'date': datetime.datetime(2022, 1, 25, 15, 30), 'close': 111.13}, {'date': datetime.datetime(2022, 1, 26, 15, 30), 'close': 110.71}, {'date': datetime.datetime(2022, 1, 27, 15, 30), 'close': 102.6}, {'date': datetime.datetime(2022, 1, 28, 15, 30), 'close': 105.24}, {'date': datetime.datetime(2022, 1, 31, 15, 30), 'close': 114.25}, {'date': datetime.datetime(2022, 2, 1, 15, 30), 'close': 116.78}, {'date': datetime.datetime(2022, 2, 2, 15, 30), 'close': 122.76}, {'date': datetime.datetime(2022, 2, 3, 15, 30), 'close': 120.08}, {'date': datetime.datetime(2022, 2, 4, 15, 30), 'close': 123.6}, {'date': datetime.datetime(2022, 2, 7, 15, 30), 'close': 123.67}, {'date': datetime.datetime(2022, 2, 8, 15, 30), 'close': 128.23}, {'date': datetime.datetime(2022, 2, 9, 15, 30), 'close': 132.85}, {'date': datetime.datetime(2022, 2, 10, 15, 30), 'close': 125.77}, {'date': datetime.datetime(2022, 2, 11, 15, 30), 'close': 113.18}, {'date': datetime.datetime(2022, 2, 14, 15, 30), 'close': 114.27}, {'date': datetime.datetime(2022, 2, 15, 15, 30), 'close': 121.47}, {'date': datetime.datetime(2022, 2, 16, 15, 30), 'close': 117.69}, {'date': datetime.datetime(2022, 2, 17, 15, 30), 'close': 112.37}, {'date': datetime.datetime(2022, 2, 18, 15, 30), 'close': 113.83}, {'date': datetime.datetime(2022, 2, 22, 15, 30), 'close': 115.65}, {'date': datetime.datetime(2022, 2, 23, 15, 30), 'close': 109.76}, {'date': datetime.datetime(2022, 2, 24, 15, 30), 'close': 116.61}, {'date': datetime.datetime(2022, 2, 25, 15, 30), 'close': 121.06}, {'date': datetime.datetime(2022, 2, 28, 15, 30), 'close': 123.34}, {'date': datetime.datetime(2022, 3, 1, 15, 30), 'close': 113.83}, {'date': datetime.datetime(2022, 3, 2, 15, 30), 'close': 118.28}, {'date': datetime.datetime(2022, 3, 3, 15, 30), 'close': 111.98}, {'date': datetime.datetime(2022, 3, 4, 15, 30), 'close': 108.41}, {'date': datetime.datetime(2022, 3, 7, 15, 30), 'close': 102.95}, {'date': datetime.datetime(2022, 3, 8, 15, 30), 'close': 105.53}, {'date': datetime.datetime(2022, 3, 9, 15, 30), 'close': 111.05}, {'date': datetime.datetime(2022, 3, 10, 15, 30), 'close': 106.46}, {'date': datetime.datetime(2022, 3, 11, 15, 30), 'close': 104.29}, {'date': datetime.datetime(2022, 3, 14, 14, 30), 'close': 102.25}, {'date': datetime.datetime(2022, 3, 15, 14, 30), 'close': 109.33}, {'date': datetime.datetime(2022, 3, 16, 14, 30), 'close': 115.37}, {'date': datetime.datetime(2022, 3, 17, 14, 30), 'close': 111.69}, {'date': datetime.datetime(2022, 3, 18, 14, 30), 'close': 113.46}, {'date': datetime.datetime(2022, 3, 21, 14, 30), 'close': 115.92}, {'date': datetime.datetime(2022, 3, 22, 14, 30), 'close': 114.78}, {'date': datetime.datetime(2022, 3, 23, 14, 30), 'close': 113.92}, {'date': datetime.datetime(2022, 3, 24, 14, 30), 'close': 120.53}, {'date': datetime.datetime(2022, 3, 25, 14, 30), 'close': 119.67}, {'date': datetime.datetime(2022, 3, 28, 15, 30), 'close': 120.24}, {'date': datetime.datetime(2022, 3, 29, 16, 17, 17), 'close': 120.21}], 'TLRY': [{'date': datetime.datetime(2021, 12, 29, 15, 30), 'close': 7.05}, {'date': datetime.datetime(2021, 12, 30, 15, 30), 'close': 7.28}, {'date': datetime.datetime(2021, 12, 31, 15, 30), 'close': 7.03}, {'date': datetime.datetime(2022, 1, 3, 15, 30), 'close': 7.39}, {'date': datetime.datetime(2022, 1, 4, 15, 30), 'close': 7.11}, {'date': datetime.datetime(2022, 1, 5, 15, 30), 'close': 6.63}, {'date': datetime.datetime(2022, 1, 6, 15, 30), 'close': 6.44}, {'date': datetime.datetime(2022, 1, 7, 15, 30), 'close': 6.42}, {'date': datetime.datetime(2022, 1, 10, 15, 30), 'close': 7.29}, {'date': datetime.datetime(2022, 1, 11, 15, 30), 'close': 7.38}, {'date': datetime.datetime(2022, 1, 12, 15, 30), 'close': 7.15}, {'date': datetime.datetime(2022, 1, 13, 15, 30), 'close': 6.87}, {'date': datetime.datetime(2022, 1, 14, 15, 30), 'close': 6.86}, {'date': datetime.datetime(2022, 1, 18, 15, 30), 'close': 6.29}, {'date': datetime.datetime(2022, 1, 19, 15, 30), 'close': 5.97}, {'date': datetime.datetime(2022, 1, 20, 15, 30), 'close': 5.92}, {'date': datetime.datetime(2022, 1, 21, 15, 30), 'close': 5.79}, {'date': datetime.datetime(2022, 1, 24, 15, 30), 'close': 5.84}, {'date': datetime.datetime(2022, 1, 25, 15, 30), 'close': 5.72}, {'date': datetime.datetime(2022, 1, 26, 15, 30), 'close': 5.56}, {'date': datetime.datetime(2022, 1, 27, 15, 30), 'close': 5.22}, {'date': datetime.datetime(2022, 1, 28, 15, 30), 'close': 5.48}, {'date': datetime.datetime(2022, 1, 31, 15, 30), 'close': 5.96}, {'date': datetime.datetime(2022, 2, 1, 15, 30), 'close': 6.22}, {'date': datetime.datetime(2022, 2, 2, 15, 30), 'close': 5.98}, {'date': datetime.datetime(2022, 2, 3, 15, 30), 'close': 5.65}, {'date': datetime.datetime(2022, 2, 4, 15, 30), 'close': 5.95}, {'date': datetime.datetime(2022, 2, 7, 15, 30), 'close': 6.03}, {'date': datetime.datetime(2022, 2, 8, 15, 30), 'close': 6.25}, {'date': datetime.datetime(2022, 2, 9, 15, 30), 'close': 6.92}, {'date': datetime.datetime(2022, 2, 10, 15, 30), 'close': 7.0}, {'date': datetime.datetime(2022, 2, 11, 15, 30), 'close': 7.12}, {'date': datetime.datetime(2022, 2, 14, 15, 30), 'close': 6.72}, {'date': datetime.datetime(2022, 2, 15, 15, 30), 'close': 7.15}, {'date': datetime.datetime(2022, 2, 16, 15, 30), 'close': 7.2}, {'date': datetime.datetime(2022, 2, 17, 15, 30), 'close': 6.71}, {'date': datetime.datetime(2022, 2, 18, 15, 30), 'close': 6.39}, {'date': datetime.datetime(2022, 2, 22, 15, 30), 'close': 6.09}, {'date': datetime.datetime(2022, 2, 23, 15, 30), 'close': 5.91}, {'date': datetime.datetime(2022, 2, 24, 15, 30), 'close': 6.17}, {'date': datetime.datetime(2022, 2, 25, 15, 30), 'close': 6.06}, {'date': datetime.datetime(2022, 2, 28, 15, 30), 'close': 6.1}, {'date': datetime.datetime(2022, 3, 1, 15, 30), 'close': 5.85}, {'date': datetime.datetime(2022, 3, 2, 15, 30), 'close': 5.83}, {'date': datetime.datetime(2022, 3, 3, 15, 30), 'close': 5.42}, {'date': datetime.datetime(2022, 3, 4, 15, 30), 'close': 5.24}, {'date': datetime.datetime(2022, 3, 7, 15, 30), 'close': 5.12}, {'date': datetime.datetime(2022, 3, 8, 15, 30), 'close': 5.3}, {'date': datetime.datetime(2022, 3, 9, 15, 30), 'close': 5.5}, {'date': datetime.datetime(2022, 3, 10, 15, 30), 'close': 5.42}, {'date': datetime.datetime(2022, 3, 11, 15, 30), 'close': 5.19}, {'date': datetime.datetime(2022, 3, 14, 14, 30), 'close': 4.88}, {'date': datetime.datetime(2022, 3, 15, 14, 30), 'close': 5.0}, {'date': datetime.datetime(2022, 3, 16, 14, 30), 'close': 5.33}, {'date': datetime.datetime(2022, 3, 17, 14, 30), 'close': 5.41}, {'date': datetime.datetime(2022, 3, 18, 14, 30), 'close': 5.51}, {'date': datetime.datetime(2022, 3, 21, 14, 30), 'close': 5.32}, {'date': datetime.datetime(2022, 3, 22, 14, 30), 'close': 5.68}, {'date': datetime.datetime(2022, 3, 23, 14, 30), 'close': 5.72}, {'date': datetime.datetime(2022, 3, 24, 14, 30), 'close': 6.97}, {'date': datetime.datetime(2022, 3, 25, 14, 30), 'close': 8.56}, {'date': datetime.datetime(2022, 3, 28, 15, 30), 'close': 7.99}, {'date': datetime.datetime(2022, 3, 29, 16, 17, 17), 'close': 7.77}]}\n"
     ]
    }
   ],
   "source": [
    "print(Charts.charts)"
   ]
  },
  {
   "cell_type": "markdown",
   "metadata": {},
   "source": [
    "Maintenant que nous avons recuperé les données, on va regarder celle qui ressemble le plus à AAPL"
   ]
  },
  {
   "cell_type": "code",
   "execution_count": 158,
   "metadata": {},
   "outputs": [],
   "source": [
    "Analysis = ChartCollectorAPI()"
   ]
  },
  {
   "cell_type": "code",
   "execution_count": 159,
   "metadata": {},
   "outputs": [],
   "source": [
    "analysis = Analysis.resultats_rapports(\"AAPL\",Charts.charts)"
   ]
  },
  {
   "cell_type": "markdown",
   "metadata": {},
   "source": [
    "Find the best match"
   ]
  },
  {
   "cell_type": "code",
   "execution_count": 160,
   "metadata": {},
   "outputs": [
    {
     "name": "stdout",
     "output_type": "stream",
     "text": [
      "{'value': 0.05, 'actif_reference': 'AAPL', 'actif_comparaison': 'AMD', 'chart_reference': [163.1999969482422, 166.55999755859375, 166.22999572753906, 163.1699981689453, 159.3000030517578, 157.44000244140625, 162.9499969482422, 158.52000427246094, 154.72999572753906, 150.6199951171875, 155.08999633789062, 159.58999633789062, 160.6199951171875, 163.97999572753906, 165.3800048828125, 168.82000732421875, 170.2100067138672, 174.07000732421875, 174.72000122070312, 175.60000610351562, 176.9149932861328], 'current_data': [113.83, 118.28, 111.98, 108.41, 102.95, 105.53, 111.05, 106.46, 104.29, 102.25, 109.33, 115.37, 111.69, 113.46, 115.92, 114.78, 113.92, 120.53, 119.67, 120.24, 120.21], 'chart_comparison': [105.24, 114.25, 116.78, 122.76, 120.08, 123.6, 123.67, 128.23, 132.85, 125.77, 113.18, 114.27, 121.47, 117.69, 112.37, 113.83, 115.65, 109.76, 116.61, 121.06, 123.34]}\n"
     ]
    }
   ],
   "source": [
    "dictionnary = {}\n",
    "for value in analysis:\n",
    "    dictionnary[analysis[value][\"value\"]] =analysis[value]\n",
    "    \n",
    "best_choice = dictionnary[min(dictionnary,key=int)]\n",
    "\n",
    "print(best_choice)"
   ]
  },
  {
   "cell_type": "code",
   "execution_count": 164,
   "metadata": {},
   "outputs": [
    {
     "name": "stdout",
     "output_type": "stream",
     "text": [
      "Predicted price : 166.28143268488878\n"
     ]
    }
   ],
   "source": [
    "current_data = best_choice[\"current_data\"]\n",
    "chart_comparison = best_choice[\"chart_comparison\"]\n",
    "chart_reference = best_choice[\"chart_reference\"]\n",
    "\n",
    "prediction = current_data[len(current_data)-1]/mean(chart_comparison)*mean(chart_reference)\n",
    "\n",
    "\n",
    "print(f\"Predicted price : {prediction}\")"
   ]
  },
  {
   "cell_type": "code",
   "execution_count": 163,
   "metadata": {},
   "outputs": [
    {
     "data": {
      "image/png": "[encoded data removed]",
      "text/plain": [
       "<Figure size 432x288 with 2 Axes>"
      ]
     },
     "metadata": {
      "needs_background": "light"
     },
     "output_type": "display_data"
    }
   ],
   "source": [
    "from pandas import DataFrame\n",
    "import matplotlib.pyplot as plt\n",
    "\n",
    "\n",
    "# On créé une nouvelle figure pour afficher le premier graphique\n",
    "plt.Figure(figsize=(5,5), dpi=100)\n",
    "ax = plt.subplot(111)\n",
    "ax.yaxis.label.set_color('red')\n",
    "# On recupere les dates et les prix de l'actif 1\n",
    "dates = [index for index in range(len(best_choice[\"chart_reference\"]))]\n",
    "prix = best_choice[\"chart_reference\"]\n",
    "\n",
    "# On crée un DataFrame pendant pour le plot plus facilement\n",
    "df = DataFrame({\"dates\":dates,best_choice[\"actif_reference\"]:prix},columns=[best_choice[\"actif_reference\"],'dates'])\n",
    "# On regroupe les prix par dates\n",
    "df = df[['dates',best_choice[\"actif_reference\"]]].groupby('dates').sum()\n",
    "# On affiche le dataframe\n",
    "df.plot(kind='line', legend=True, ax=ax, color='r')\n",
    "\n",
    "\n",
    "ax2 = ax.twinx()\n",
    "ax2.yaxis.label.set_color('b')\n",
    "# On recupere les dates et les prix de l'actif 2\n",
    "prix = best_choice[\"chart_comparison\"]\n",
    "\n",
    "# On crée un DataFrame pendant pour le plot plus facilement\n",
    "df = DataFrame({\"dates\":dates,best_choice[\"actif_comparaison\"]:prix},columns=[best_choice[\"actif_comparaison\"],'dates'])\n",
    "\n",
    "# On regroupe les prix par dates\n",
    "df = df[['dates',best_choice[\"actif_comparaison\"]]].groupby('dates').sum()\n",
    "# On affiche le dataframe\n",
    "df.plot(kind='line', legend=True, ax=ax2, color='b')\n",
    "\n",
    "# On recupere les dates et les prix de l'actif 2\n",
    "prix = best_choice[\"current_data\"]\n",
    "dates = [index for index in range(len(best_choice[\"chart_reference\"]),len(best_choice[\"chart_reference\"])+len(best_choice[\"chart_reference\"]))]\n",
    "# On crée un DataFrame pendant pour le plot plus facilement\n",
    "df = DataFrame({\"dates\":dates,best_choice[\"actif_comparaison\"]:prix},columns=[best_choice[\"actif_comparaison\"],'dates'])\n",
    "\n",
    "# On regroupe les prix par dates\n",
    "df = df[['dates',best_choice[\"actif_comparaison\"]]].groupby('dates').sum()\n",
    "# On affiche le dataframe\n",
    "df.plot(linestyle='dashed',kind='line', legend=True, ax=ax2, color='b')\n",
    "\n",
    "ax.set_title('Prix des actions')\n",
    "\n",
    "plt.show()"
   ]
  }
 ],
 "metadata": {
  "interpreter": {
   "hash": "31f2aee4e71d21fbe5cf8b01ff0e069b9275f58929596ceb00d14d90e3e16cd6"
  },
  "kernelspec": {
   "display_name": "Python 3 (ipykernel)",
   "language": "python",
   "name": "python3"
  },
  "language_info": {
   "codemirror_mode": {
    "name": "ipython",
    "version": 3
   },
   "file_extension": ".py",
   "mimetype": "text/x-python",
   "name": "python",
   "nbconvert_exporter": "python",
   "pygments_lexer": "ipython3",
   "version": "3.9.10"
  }
 },
 "nbformat": 4,
 "nbformat_minor": 2
}
